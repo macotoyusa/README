{
  "nbformat": 4,
  "nbformat_minor": 0,
  "metadata": {
    "colab": {
      "provenance": [],
      "authorship_tag": "ABX9TyMSUMcnqjEekHUWx3oJp+Z5",
      "include_colab_link": true
    },
    "kernelspec": {
      "name": "python3",
      "display_name": "Python 3"
    },
    "language_info": {
      "name": "python"
    }
  },
  "cells": [
    {
      "cell_type": "markdown",
      "metadata": {
        "id": "view-in-github",
        "colab_type": "text"
      },
      "source": [
        "<a href=\"https://colab.research.google.com/github/macotoyusa/README/blob/main/Axelrod_Newest_N%3D100.ipynb\" target=\"_parent\"><img src=\"https://colab.research.google.com/assets/colab-badge.svg\" alt=\"Open In Colab\"/></a>"
      ]
    },
    {
      "cell_type": "markdown",
      "source": [
        "口コミモデル_最新版：Axelrod(1997)の文化モデル"
      ],
      "metadata": {
        "id": "Gy4Odf2Q9mM0"
      }
    },
    {
      "cell_type": "code",
      "source": [
        "## ライブラリをインポート\n",
        "import random as rd\n",
        "\n",
        "%matplotlib inline\n",
        "\n",
        "from random import uniform, seed\n",
        "from math import sqrt\n",
        "import matplotlib.pyplot as plt\n",
        "import numpy as np\n",
        "import random\n",
        "from matplotlib.animation import FuncAnimation\n",
        "from IPython.display import HTML\n",
        "import math\n",
        "from matplotlib.colors import LogNorm"
      ],
      "metadata": {
        "id": "Bu8sf0bv9feA"
      },
      "execution_count": 1,
      "outputs": []
    },
    {
      "cell_type": "code",
      "source": [
        "## パラメータの設定\n",
        "SIZE = 10\n",
        "TRAITS = [0, 1, 2, 3, 4, 5, 6, 7, 8, 9]\n",
        "FEATURES = 5\n",
        "RUNS = 100000\n",
        "\n",
        "SEED = 1\n",
        "\n",
        "#Traitsの倉庫(コピペして使ってね！)\n",
        "#[0, 1, 2, 3, 4, 5, 6, 7, 8, 9]\n",
        "#[0, 1, 2, 3, 4, 5, 6, 7, 8, 9, 10, 11, 12, 13, 14, 15, 16, 17, 18, 19, 20, 21, 22, 23, 24]\n",
        "#[0, 1, 2, 3, 4, 5, 6, 7, 8, 9, 10, 11, 12, 13, 14, 15, 16, 17, 18, 19, 20, 21, 22, 23, 24, 25, 26, 27, 28, 29]\n",
        "#[0, 1, 2, 3, 4, 5, 6, 7, 8, 9, 10, 11, 12, 13, 14, 15, 16, 17, 18, 19, 20, 21, 22, 23, 24, 25, 26, 27, 28, 29, 30, 31, 32, 33, 34, 35, 36, 37, 38, 39]\n",
        "#[0, 1, 2, 3, 4, 5, 6, 7, 8, 9, 10, 11, 12, 13, 14, 15, 16, 17, 18, 19, 20, 21, 22, 23, 24, 25, 26, 27, 28, 29, 30, 31, 32, 33, 34, 35, 36, 37, 38, 39, 40, 41, 42, 43, 44, 45, 46, 47, 48, 49]"
      ],
      "metadata": {
        "id": "TfCOIKSv92R6"
      },
      "execution_count": 2,
      "outputs": []
    },
    {
      "cell_type": "code",
      "source": [
        "## 生成する格子状の社会における関数\n",
        "# 「位置」を返す関数\n",
        "def find_location(index, SIZE):\n",
        "    \"\"\"\n",
        "    与えられたインデックスから、サイズが SIZE**2 の正方形のグリッド内でのx座標とy座標を見つけるコード。\n",
        "    左から右へ、上から下へと行を数えると仮定し、領域は正方形であるとする。\n",
        "    行と列はPythonのインデックス規則に従って0から始まる。\n",
        "\n",
        "    e.g.\n",
        "        0  1  2\n",
        "    0  [0, 1, 2,\n",
        "    1   3, 4, 5,\n",
        "    2   6, 7, 8]\n",
        "\n",
        "    4 = [1, 1]\n",
        "    \"\"\"\n",
        "    x_pos = index % SIZE\n",
        "    y_pos = index // SIZE\n",
        "    return [x_pos, y_pos]\n",
        "\n",
        "# 「index」を返す関数\n",
        "def find_index(loc, SIZE):\n",
        "    \"\"\"\n",
        "    位置情報からindexを返す\n",
        "    \"\"\"\n",
        "    index = (loc[1] * SIZE - 1) + (loc[0] + 1)\n",
        "    return index\n",
        "\n",
        "# 「Neighborの位置情報」を返す関数\n",
        "def find_neighbors(loc):\n",
        "    \"\"\"\n",
        "    対象のエージェントの位置情報から、Neighborの位置情報を返す\n",
        "    \"\"\"\n",
        "    N = loc[0], loc[1] - 1\n",
        "    S = loc[0], loc[1] + 1\n",
        "    W = loc[0] - 1, loc[1]\n",
        "    E = loc[0] + 1, loc[1]\n",
        "    NW = loc[0] - 1, loc[1] - 1\n",
        "    NE = loc[0] + 1, loc[1] - 1\n",
        "    SW = loc[0] - 1, loc[1] + 1\n",
        "    SE = loc[0] + 1, loc[1] + 1\n",
        "    return [N, S, W, E, NW, NE, SW, SE]"
      ],
      "metadata": {
        "id": "hsmK9uIgaxio"
      },
      "execution_count": 3,
      "outputs": []
    },
    {
      "cell_type": "code",
      "source": [
        "## モデルとエージェントの定義\n",
        "# モデルを生成するためのエージェント\n",
        "class Agent():\n",
        "\n",
        "    def __init__(self):\n",
        "        self.culture = [rd.choice(TRAITS) for i in range(FEATURES)]\n",
        "\n",
        "    # 交流時、エージェントの文化を変容させる関数\n",
        "    def culture_share(self, target, model):\n",
        "        similarity = 0\n",
        "        for i in model.agents[target].culture:\n",
        "            if i == self.culture[model.agents[target].culture.index(i)]:\n",
        "                similarity += 1\n",
        "\n",
        "        interaction_probability = similarity / FEATURES\n",
        "\n",
        "        if rd.uniform(0, 1) < interaction_probability:\n",
        "          while True:\n",
        "            shared = rd.randint(0, FEATURES - 1)\n",
        "            if interaction_probability == 1.0:\n",
        "              break\n",
        "            elif self.culture[shared] != model.agents[target].culture[shared]:\n",
        "              self.culture[shared] = model.agents[target].culture[shared]\n",
        "              break\n",
        "            else:\n",
        "              pass\n",
        "\n",
        "# モデルの定義\n",
        "class Axelrod():\n",
        "\n",
        "    def __init__(self):\n",
        "        self.agents = [Agent() for i in range(SIZE**2)]\n",
        "\n",
        "    # Activeと、そのNeighborを交流させる関数 (Activeのindexに応じて、より正確にNeighborを定義した)\n",
        "    def tick(self):\n",
        "        try:\n",
        "            active = rd.choice(self.agents)\n",
        "            active_num = find_index((find_location((model.agents.index(active)), SIZE)), SIZE)\n",
        "\n",
        "            while True:\n",
        "              if active_num == 0:\n",
        "                weight_list = [0,1,0,1,0,0,0,1]\n",
        "                passive = find_index(rd.choices(find_neighbors(find_location(model.agents.index(active), SIZE)), weights=weight_list)[0], SIZE)\n",
        "                break\n",
        "              #in [1, 3, 7]\n",
        "\n",
        "              elif active_num == 9:\n",
        "                weight_list = [0,1,1,0,0,0,1,0]\n",
        "                passive = find_index(rd.choices(find_neighbors(find_location(model.agents.index(active), SIZE)), weights=weight_list)[0], SIZE)\n",
        "                break\n",
        "              #in [1, 2, 6]\n",
        "\n",
        "              elif active_num == 90:\n",
        "                weight_list = [1,0,0,1,0,1,0,0]\n",
        "                passive = find_index(rd.choices(find_neighbors(find_location(model.agents.index(active), SIZE)), weights=weight_list)[0], SIZE)\n",
        "                break\n",
        "              #in [0, 3, 5]\n",
        "\n",
        "              elif active_num == 99:\n",
        "                weight_list = [1,0,1,0,1,0,0,0]\n",
        "                passive = find_index(rd.choices(find_neighbors(find_location(model.agents.index(active), SIZE)), weights=weight_list)[0], SIZE)\n",
        "                break\n",
        "              #in [0, 2, 4]\n",
        "\n",
        "              elif 1 <= active_num < 9:\n",
        "                weight_list = [0,1,1,1,0,0,1,0]\n",
        "                passive = find_index(rd.choices(find_neighbors(find_location(model.agents.index(active), SIZE)), weights=weight_list)[0], SIZE)\n",
        "                break\n",
        "              #in [1, 2, 3, 6, 7]\n",
        "\n",
        "              elif 91 <= active_num < 99:\n",
        "                weight_list = [1,0,1,1,1,1,0,0]\n",
        "                passive = find_index(rd.choices(find_neighbors(find_location(model.agents.index(active), SIZE)), weights=weight_list)[0], SIZE)\n",
        "                break\n",
        "              #in [0, 2, 3, 4, 5]\n",
        "\n",
        "              elif active_num % 10 == 0:\n",
        "                weight_list = [1,1,0,1,0,1,0,1]\n",
        "                passive = find_index(rd.choices(find_neighbors(find_location(model.agents.index(active), SIZE)), weights=weight_list)[0], SIZE)\n",
        "                break\n",
        "              #in [0, 1, 3, 5, 7]\n",
        "\n",
        "              elif (active_num + 1) % 10 == 0:\n",
        "                weight_list = [1,1,1,0,1,0,1,0]\n",
        "                passive = find_index(rd.choices(find_neighbors(find_location(model.agents.index(active), SIZE)), weights=weight_list)[0], SIZE)\n",
        "                break\n",
        "              #in [0, 1, 2, 4, 6]\n",
        "\n",
        "              else:\n",
        "                weight_list = [1,1,1,1,1,1,1,1]\n",
        "                passive = find_index(rd.choices(find_neighbors(find_location(model.agents.index(active), SIZE)), weights=weight_list)[0], SIZE)\n",
        "                break\n",
        "\n",
        "            active.culture_share(passive, self)\n",
        "        except IndexError:\n",
        "            self.tick()\n",
        "\n",
        "    # モデルの文化を、リストのような形で返す関数\n",
        "    def show_state(self):\n",
        "        for n in range(0, SIZE):\n",
        "            row = [self.agents[i].culture for i in range(n * SIZE, n * (SIZE) + SIZE)]\n",
        "            for agent in row:\n",
        "                print(\"[\", end=\"\")\n",
        "                print(*agent, sep=\",\", end=\"\")\n",
        "                print(\"]\", end=\"\")\n",
        "            print()\n",
        "            print(\"-\" * (SIZE*FEATURES*2+SIZE))\n",
        "\n",
        "    # 一定回数シミュレーションを繰り返す関数\n",
        "    def run_sim(self):\n",
        "        print(\"Initial state of the model:\")\n",
        "        print()\n",
        "        self.show_state()\n",
        "        print()\n",
        "        print(\"Running simulation...\")\n",
        "        for r in range(1,RUNS):\n",
        "            self.tick()\n",
        "        print(\"Final state of the model:\")\n",
        "        self.show_state()"
      ],
      "metadata": {
        "id": "EcjcQSMZlUol"
      },
      "execution_count": 4,
      "outputs": []
    },
    {
      "cell_type": "code",
      "source": [
        "##全ケースの初期状態\n",
        "# シード値の設定\n",
        "rd.seed(SEED)\n",
        "\n",
        "model = Axelrod()\n",
        "model.show_state()"
      ],
      "metadata": {
        "colab": {
          "base_uri": "https://localhost:8080/"
        },
        "id": "aTxh3K7H-Jot",
        "outputId": "a871ca0e-b38e-4ee0-85dd-9e292c9f6618"
      },
      "execution_count": 5,
      "outputs": [
        {
          "output_type": "stream",
          "name": "stdout",
          "text": [
            "[2,9,1,4,1][7,7,7,6,3][1,7,0,6,6][9,0,7,4,3][9,1,5,0,0][0,8,0,6,3][6,0,8,3,7][7,8,3,5,3][3,7,4,0,6][8,1,2,4,1]\n",
            "--------------------------------------------------------------------------------------------------------------\n",
            "[5,8,6,8,3][4,4,9,7,8][6,9,0,7,3][6,6,2,5,8][5,1,7,8,1][2,8,6,5,7][0,7,0,4,9][9,9,6,2,2][8,3,0,3,8][8,3,6,8,5]\n",
            "--------------------------------------------------------------------------------------------------------------\n",
            "[9,5,7,4,8][9,0,6,8,2][8,8,3,6,0][7,5,9,8,3][8,6,7,5,6][5,0,8,8,9][9,5,7,9,0][3,2,8,9,2][1,8,4,0,1][1,0,7,0,4]\n",
            "--------------------------------------------------------------------------------------------------------------\n",
            "[3,4,1,9,2][5,4,1,2,2][4,8,2,4,4][7,5,7,7,1][0,4,6,5,6][3,4,1,4,8][3,9,6,0,3][0,6,2,0,2][7,8,6,8,3][8,7,3,8,0]\n",
            "--------------------------------------------------------------------------------------------------------------\n",
            "[6,9,5,6,0][4,2,3,0,4][1,1,4,4,2][6,9,4,2,0][8,0,9,3,9][7,2,9,8,0][6,3,5,1,3][9,6,9,3,7][1,6,4,8,7][0,5,9,6,4]\n",
            "--------------------------------------------------------------------------------------------------------------\n",
            "[0,2,3,5,9][2,5,6,3,4][1,6,8,5,8][7,8,3,1,0][1,2,2,2,8][3,4,5,9,8][4,5,5,5,1][4,3,9,7,2][9,8,1,5,0][6,1,6,2,2]\n",
            "--------------------------------------------------------------------------------------------------------------\n",
            "[5,1,9,9,6][1,9,8,3,9][1,4,5,4,9][8,1,7,4,1][0,4,0,9,0][1,6,1,0,3][3,9,6,2,1][7,2,3,2,1][6,6,8,4,8][4,7,5,1,3]\n",
            "--------------------------------------------------------------------------------------------------------------\n",
            "[5,0,0,0,4][9,5,7,6,5][6,1,1,5,9][7,1,4,3,9][8,7,5,4,2][8,3,4,3,3][5,1,4,1,7][1,9,5,3,6][4,0,5,2,5][9,4,3,5,1]\n",
            "--------------------------------------------------------------------------------------------------------------\n",
            "[8,9,9,9,1][3,3,0,3,6][1,4,8,1,1][0,0,4,5,7][7,2,1,8,5][1,8,2,2,2][2,5,4,1,8][9,4,2,3,2][8,0,5,9,8][3,2,4,6,8]\n",
            "--------------------------------------------------------------------------------------------------------------\n",
            "[2,0,3,4,1][7,6,8,4,8][7,8,7,0,6][5,2,4,7,0][6,9,0,0,5][9,2,9,2,2][4,4,6,9,6][2,9,1,3,7][0,2,8,5,8][7,3,3,5,7]\n",
            "--------------------------------------------------------------------------------------------------------------\n"
          ]
        }
      ]
    },
    {
      "cell_type": "code",
      "source": [
        "##類似度の計算\n",
        "\"ランダムで隣人を選択し、その類似度を測っている。それでいいのか？\"\n",
        "lis_int_prob = []\n",
        "\n",
        "for i in range(0, len(model.agents)):\n",
        "  active = model.agents[i]\n",
        "\n",
        "  #隣人の生成\n",
        "  neighbours = find_neighbors(find_location(model.agents.index(active), SIZE))\n",
        "  i_nei = []\n",
        "  for j in neighbours:\n",
        "    i_nei.append(find_index(j, SIZE))\n",
        "  i_nei\n",
        "\n",
        "  #activeの場所に応じて、とれる隣人が変わる\n",
        "  if i == 0:\n",
        "    k = random.choice([1, 3, 7])\n",
        "    similarity = 0\n",
        "    for l in range(0, FEATURES):\n",
        "      if active.culture[l] == model.agents[i_nei[k]].culture[l]:\n",
        "        similarity += 1\n",
        "    lis_int_prob.append(similarity / FEATURES)\n",
        "\n",
        "  #in [1, 3, 7]\n",
        "\n",
        "\n",
        "  elif i == 9:\n",
        "    k = random.choice([1, 2, 6])\n",
        "    similarity = 0\n",
        "    for l in range(0, FEATURES):\n",
        "      if active.culture[l] == model.agents[i_nei[k]].culture[l]:\n",
        "        similarity += 1\n",
        "    lis_int_prob.append(similarity / FEATURES)\n",
        "\n",
        "  #in [1, 2, 6]\n",
        "\n",
        "\n",
        "  elif i == 90:\n",
        "    k = random.choice([0, 3, 5])\n",
        "    similarity = 0\n",
        "    for l in range(0, FEATURES):\n",
        "      if active.culture[l] == model.agents[i_nei[k]].culture[l]:\n",
        "        similarity += 1\n",
        "    lis_int_prob.append(similarity / FEATURES)\n",
        "\n",
        "  #in [0, 3, 5]\n",
        "\n",
        "\n",
        "  elif i == 99:\n",
        "    k = random.choice([0, 2, 4])\n",
        "    similarity = 0\n",
        "    for l in range(0, FEATURES):\n",
        "      if active.culture[l] == model.agents[i_nei[k]].culture[l]:\n",
        "        similarity += 1\n",
        "    lis_int_prob.append(similarity / FEATURES)\n",
        "\n",
        "  #in [0, 2, 4]\n",
        "\n",
        "\n",
        "  elif 1 <= i < 9:\n",
        "    k = random.choice([1, 2, 3, 6, 7])\n",
        "    similarity = 0\n",
        "    for l in range(0, FEATURES):\n",
        "      if active.culture[l] == model.agents[i_nei[k]].culture[l]:\n",
        "        similarity += 1\n",
        "    lis_int_prob.append(similarity / FEATURES)\n",
        "\n",
        "  #in [1, 2, 3, 6, 7]\n",
        "\n",
        "\n",
        "  elif 91 <= i < 99:\n",
        "    k = random.choice([0, 2, 3, 4, 5])\n",
        "    similarity = 0\n",
        "    for l in range(0, FEATURES):\n",
        "      if active.culture[l] == model.agents[i_nei[k]].culture[l]:\n",
        "        similarity += 1\n",
        "    lis_int_prob.append(similarity / FEATURES)\n",
        "\n",
        "  #in [0, 2, 3, 4, 5]\n",
        "\n",
        "\n",
        "  elif i % 10 == 0:\n",
        "    k = random.choice([0, 1, 3, 5, 7])\n",
        "    similarity = 0\n",
        "    for l in range(0, FEATURES):\n",
        "      if active.culture[l] == model.agents[i_nei[k]].culture[l]:\n",
        "        similarity += 1\n",
        "    lis_int_prob.append(similarity / FEATURES)\n",
        "\n",
        "  #in [0, 1, 3, 5, 7]\n",
        "\n",
        "\n",
        "  elif (i + 1) % 10 == 0:\n",
        "    k = random.choice([0, 1, 2, 4, 6])\n",
        "    similarity = 0\n",
        "    for l in range(0, FEATURES):\n",
        "      if active.culture[l] == model.agents[i_nei[k]].culture[l]:\n",
        "        similarity += 1\n",
        "    lis_int_prob.append(similarity / FEATURES)\n",
        "\n",
        "  #in [0, 1, 2, 4, 6]\n",
        "\n",
        "  else:\n",
        "    k = random.choice([0, 1, 2, 3, 4, 5, 6, 7])\n",
        "    similarity = 0\n",
        "    for l in range(0, FEATURES):\n",
        "      if active.culture[l] == model.agents[i_nei[k]].culture[l]:\n",
        "        similarity += 1\n",
        "    lis_int_prob.append(similarity / FEATURES)"
      ],
      "metadata": {
        "id": "dPvdFzC2AN96"
      },
      "execution_count": 6,
      "outputs": []
    },
    {
      "cell_type": "code",
      "source": [
        "## 類似度のリストをマトリックスとして表示\n",
        "list_int_prob = np.array(lis_int_prob)\n",
        "list_int_prob = list_int_prob.reshape(10, 10)"
      ],
      "metadata": {
        "id": "anKh6_fH_apj"
      },
      "execution_count": 7,
      "outputs": []
    },
    {
      "cell_type": "code",
      "source": [
        "## listを正しい順番に並べ替える\n",
        "l_i_t = np.array([list_int_prob[9]])\n",
        "\n",
        "for i in [8, 7, 6, 5, 4, 3, 2, 1, 0]:\n",
        "  l_i_t = np.insert(l_i_t,l_i_t.shape[0], np.array([list_int_prob[i]]), axis=0)\n",
        "\n",
        "print(l_i_t)"
      ],
      "metadata": {
        "id": "HtwKMLHurGlD",
        "colab": {
          "base_uri": "https://localhost:8080/"
        },
        "outputId": "937d79c4-40dc-4acb-f186-29a73afd97fa"
      },
      "execution_count": 8,
      "outputs": [
        {
          "output_type": "stream",
          "name": "stdout",
          "text": [
            "[[0.2 0.  0.  0.2 0.  0.  0.  0.2 0.4 0.2]\n",
            " [0.  0.  0.  0.  0.2 0.  0.  0.  0.2 0. ]\n",
            " [0.  0.  0.2 0.4 0.2 0.  0.  0.2 0.  0. ]\n",
            " [0.  0.4 0.  0.  0.  0.  0.2 0.  0.  0. ]\n",
            " [0.  0.  0.  0.2 0.2 0.  0.  0.  0.  0. ]\n",
            " [0.  0.2 0.  0.2 0.  0.  0.2 0.  0.  0. ]\n",
            " [0.  0.2 0.4 0.2 0.  0.2 0.  0.2 0.  0. ]\n",
            " [0.  0.2 0.2 0.  0.  0.  0.  0.2 0.4 0. ]\n",
            " [0.  0.  0.2 0.  0.2 0.  0.4 0.  0.  0. ]\n",
            " [0.  0.2 0.4 0.2 0.  0.4 0.  0.  0.  0.2]]\n"
          ]
        }
      ]
    },
    {
      "cell_type": "code",
      "source": [
        "## 類似度の図示\n",
        "x = np.arange(0, 1, 0.1)\n",
        "y = np.arange(0, 1, 0.1)\n",
        "X,Y = np.meshgrid(x,y)\n",
        "Z = l_i_t\n",
        "\n",
        "\n",
        "aa = plt.pcolormesh(X,Y,Z,vmin=0,vmax=1)\n",
        "plt.colorbar(aa)\n",
        "plt.xlabel('X')\n",
        "plt.ylabel('Y')\n",
        "plt.show()"
      ],
      "metadata": {
        "colab": {
          "base_uri": "https://localhost:8080/",
          "height": 455
        },
        "id": "D6oWwKkt03Bp",
        "outputId": "1800f096-e2d3-48a8-99be-e2a407a50b21"
      },
      "execution_count": 9,
      "outputs": [
        {
          "output_type": "display_data",
          "data": {
            "text/plain": [
              "<Figure size 640x480 with 2 Axes>"
            ],
            "image/png": "[encoded data removed]"
          },
          "metadata": {}
        }
      ]
    },
    {
      "cell_type": "code",
      "source": [
        "model.show_state()"
      ],
      "metadata": {
        "colab": {
          "base_uri": "https://localhost:8080/"
        },
        "id": "ztaCjwGIRV0G",
        "outputId": "f55c0bdb-38ca-42d4-92cd-34a5e8347474"
      },
      "execution_count": 10,
      "outputs": [
        {
          "output_type": "stream",
          "name": "stdout",
          "text": [
            "[2,9,1,4,1][7,7,7,6,3][1,7,0,6,6][9,0,7,4,3][9,1,5,0,0][0,8,0,6,3][6,0,8,3,7][7,8,3,5,3][3,7,4,0,6][8,1,2,4,1]\n",
            "--------------------------------------------------------------------------------------------------------------\n",
            "[5,8,6,8,3][4,4,9,7,8][6,9,0,7,3][6,6,2,5,8][5,1,7,8,1][2,8,6,5,7][0,7,0,4,9][9,9,6,2,2][8,3,0,3,8][8,3,6,8,5]\n",
            "--------------------------------------------------------------------------------------------------------------\n",
            "[9,5,7,4,8][9,0,6,8,2][8,8,3,6,0][7,5,9,8,3][8,6,7,5,6][5,0,8,8,9][9,5,7,9,0][3,2,8,9,2][1,8,4,0,1][1,0,7,0,4]\n",
            "--------------------------------------------------------------------------------------------------------------\n",
            "[3,4,1,9,2][5,4,1,2,2][4,8,2,4,4][7,5,7,7,1][0,4,6,5,6][3,4,1,4,8][3,9,6,0,3][0,6,2,0,2][7,8,6,8,3][8,7,3,8,0]\n",
            "--------------------------------------------------------------------------------------------------------------\n",
            "[6,9,5,6,0][4,2,3,0,4][1,1,4,4,2][6,9,4,2,0][8,0,9,3,9][7,2,9,8,0][6,3,5,1,3][9,6,9,3,7][1,6,4,8,7][0,5,9,6,4]\n",
            "--------------------------------------------------------------------------------------------------------------\n",
            "[0,2,3,5,9][2,5,6,3,4][1,6,8,5,8][7,8,3,1,0][1,2,2,2,8][3,4,5,9,8][4,5,5,5,1][4,3,9,7,2][9,8,1,5,0][6,1,6,2,2]\n",
            "--------------------------------------------------------------------------------------------------------------\n",
            "[5,1,9,9,6][1,9,8,3,9][1,4,5,4,9][8,1,7,4,1][0,4,0,9,0][1,6,1,0,3][3,9,6,2,1][7,2,3,2,1][6,6,8,4,8][4,7,5,1,3]\n",
            "--------------------------------------------------------------------------------------------------------------\n",
            "[5,0,0,0,4][9,5,7,6,5][6,1,1,5,9][7,1,4,3,9][8,7,5,4,2][8,3,4,3,3][5,1,4,1,7][1,9,5,3,6][4,0,5,2,5][9,4,3,5,1]\n",
            "--------------------------------------------------------------------------------------------------------------\n",
            "[8,9,9,9,1][3,3,0,3,6][1,4,8,1,1][0,0,4,5,7][7,2,1,8,5][1,8,2,2,2][2,5,4,1,8][9,4,2,3,2][8,0,5,9,8][3,2,4,6,8]\n",
            "--------------------------------------------------------------------------------------------------------------\n",
            "[2,0,3,4,1][7,6,8,4,8][7,8,7,0,6][5,2,4,7,0][6,9,0,0,5][9,2,9,2,2][4,4,6,9,6][2,9,1,3,7][0,2,8,5,8][7,3,3,5,7]\n",
            "--------------------------------------------------------------------------------------------------------------\n"
          ]
        }
      ]
    },
    {
      "cell_type": "code",
      "source": [
        "##シミュレーションの実施\n",
        "model.run_sim()"
      ],
      "metadata": {
        "id": "_gmHeDSlxYnB",
        "colab": {
          "base_uri": "https://localhost:8080/"
        },
        "outputId": "61a7650a-86e0-442a-dcc5-c2c9c098a43d"
      },
      "execution_count": 11,
      "outputs": [
        {
          "output_type": "stream",
          "name": "stdout",
          "text": [
            "Initial state of the model:\n",
            "\n",
            "[2,9,1,4,1][7,7,7,6,3][1,7,0,6,6][9,0,7,4,3][9,1,5,0,0][0,8,0,6,3][6,0,8,3,7][7,8,3,5,3][3,7,4,0,6][8,1,2,4,1]\n",
            "--------------------------------------------------------------------------------------------------------------\n",
            "[5,8,6,8,3][4,4,9,7,8][6,9,0,7,3][6,6,2,5,8][5,1,7,8,1][2,8,6,5,7][0,7,0,4,9][9,9,6,2,2][8,3,0,3,8][8,3,6,8,5]\n",
            "--------------------------------------------------------------------------------------------------------------\n",
            "[9,5,7,4,8][9,0,6,8,2][8,8,3,6,0][7,5,9,8,3][8,6,7,5,6][5,0,8,8,9][9,5,7,9,0][3,2,8,9,2][1,8,4,0,1][1,0,7,0,4]\n",
            "--------------------------------------------------------------------------------------------------------------\n",
            "[3,4,1,9,2][5,4,1,2,2][4,8,2,4,4][7,5,7,7,1][0,4,6,5,6][3,4,1,4,8][3,9,6,0,3][0,6,2,0,2][7,8,6,8,3][8,7,3,8,0]\n",
            "--------------------------------------------------------------------------------------------------------------\n",
            "[6,9,5,6,0][4,2,3,0,4][1,1,4,4,2][6,9,4,2,0][8,0,9,3,9][7,2,9,8,0][6,3,5,1,3][9,6,9,3,7][1,6,4,8,7][0,5,9,6,4]\n",
            "--------------------------------------------------------------------------------------------------------------\n",
            "[0,2,3,5,9][2,5,6,3,4][1,6,8,5,8][7,8,3,1,0][1,2,2,2,8][3,4,5,9,8][4,5,5,5,1][4,3,9,7,2][9,8,1,5,0][6,1,6,2,2]\n",
            "--------------------------------------------------------------------------------------------------------------\n",
            "[5,1,9,9,6][1,9,8,3,9][1,4,5,4,9][8,1,7,4,1][0,4,0,9,0][1,6,1,0,3][3,9,6,2,1][7,2,3,2,1][6,6,8,4,8][4,7,5,1,3]\n",
            "--------------------------------------------------------------------------------------------------------------\n",
            "[5,0,0,0,4][9,5,7,6,5][6,1,1,5,9][7,1,4,3,9][8,7,5,4,2][8,3,4,3,3][5,1,4,1,7][1,9,5,3,6][4,0,5,2,5][9,4,3,5,1]\n",
            "--------------------------------------------------------------------------------------------------------------\n",
            "[8,9,9,9,1][3,3,0,3,6][1,4,8,1,1][0,0,4,5,7][7,2,1,8,5][1,8,2,2,2][2,5,4,1,8][9,4,2,3,2][8,0,5,9,8][3,2,4,6,8]\n",
            "--------------------------------------------------------------------------------------------------------------\n",
            "[2,0,3,4,1][7,6,8,4,8][7,8,7,0,6][5,2,4,7,0][6,9,0,0,5][9,2,9,2,2][4,4,6,9,6][2,9,1,3,7][0,2,8,5,8][7,3,3,5,7]\n",
            "--------------------------------------------------------------------------------------------------------------\n",
            "\n",
            "Running simulation...\n",
            "Final state of the model:\n",
            "[6,7,5,2,1][6,7,5,2,1][6,7,5,2,1][6,7,5,2,1][6,7,5,2,1][6,7,5,2,1][6,7,5,2,1][6,7,5,2,1][6,7,5,2,1][6,7,5,2,1]\n",
            "--------------------------------------------------------------------------------------------------------------\n",
            "[6,7,5,2,1][6,7,5,2,1][6,7,5,2,1][6,7,5,2,1][6,7,5,2,1][6,7,5,2,1][6,7,5,2,1][6,7,5,2,1][6,7,5,2,1][6,7,5,2,1]\n",
            "--------------------------------------------------------------------------------------------------------------\n",
            "[6,7,5,2,1][6,7,5,2,1][6,7,5,2,1][6,7,5,2,1][6,7,5,2,1][6,7,5,2,1][6,7,5,2,1][6,7,5,2,1][6,7,5,2,1][6,7,5,2,1]\n",
            "--------------------------------------------------------------------------------------------------------------\n",
            "[6,7,5,2,1][6,7,5,2,1][6,7,5,2,1][6,7,5,2,1][6,7,5,2,1][6,7,5,2,1][6,7,5,2,1][0,6,9,5,8][6,7,5,2,1][6,7,5,2,1]\n",
            "--------------------------------------------------------------------------------------------------------------\n",
            "[6,7,5,2,1][6,7,5,2,1][6,7,5,2,1][6,7,5,2,1][6,7,5,2,1][6,7,5,2,1][6,7,5,2,1][0,6,9,5,8][6,7,5,2,1][6,7,5,2,1]\n",
            "--------------------------------------------------------------------------------------------------------------\n",
            "[6,7,5,2,1][6,7,5,2,1][6,7,5,2,1][6,7,5,2,1][6,7,5,2,1][6,7,5,2,1][6,7,5,2,1][6,7,5,2,1][6,7,5,2,1][6,7,5,2,1]\n",
            "--------------------------------------------------------------------------------------------------------------\n",
            "[6,7,5,2,1][6,7,5,2,1][6,7,5,2,1][6,7,5,2,1][6,7,5,2,1][6,7,5,2,1][6,7,5,2,1][6,7,5,2,1][6,7,5,2,1][6,7,5,2,1]\n",
            "--------------------------------------------------------------------------------------------------------------\n",
            "[6,7,5,2,1][6,7,5,2,1][6,7,5,2,1][6,7,5,2,1][6,7,5,2,1][6,7,5,2,1][6,7,5,2,1][6,7,5,2,1][6,7,5,2,1][6,7,5,2,1]\n",
            "--------------------------------------------------------------------------------------------------------------\n",
            "[6,7,5,2,1][6,7,5,2,1][6,7,5,2,1][6,7,5,2,1][6,7,5,2,1][6,7,5,2,1][6,7,5,2,1][6,7,5,2,1][6,7,5,2,1][6,7,5,2,1]\n",
            "--------------------------------------------------------------------------------------------------------------\n",
            "[6,7,5,2,1][6,7,5,2,1][6,7,5,2,1][6,7,5,2,1][6,7,5,2,1][6,7,5,2,1][6,7,5,2,1][6,7,5,2,1][6,7,5,2,1][6,7,5,2,1]\n",
            "--------------------------------------------------------------------------------------------------------------\n"
          ]
        }
      ]
    },
    {
      "cell_type": "code",
      "source": [
        "## 類似度の計算\n",
        "lis_int_prob = []\n",
        "\n",
        "for i in range(0, len(model.agents)):\n",
        "  active = model.agents[i]\n",
        "\n",
        "#隣人の生成\n",
        "  neighbours = find_neighbors(find_location(model.agents.index(active), SIZE))\n",
        "  i_nei = []\n",
        "  for j in neighbours:\n",
        "    i_nei.append(find_index(j, SIZE))\n",
        "  i_nei\n",
        "\n",
        "#activeの場所に応じて、とれる隣人が変わる\n",
        "  if i == 0:\n",
        "    k = random.choice([1, 3, 7])\n",
        "    similarity = 0\n",
        "    for l in range(0, FEATURES):\n",
        "      if active.culture[l] == model.agents[i_nei[k]].culture[l]:\n",
        "        similarity += 1\n",
        "    lis_int_prob.append(similarity / FEATURES)\n",
        "\n",
        "  #in [1, 3, 7]\n",
        "\n",
        "\n",
        "  elif i == 9:\n",
        "    k = random.choice([1, 2, 6])\n",
        "    similarity = 0\n",
        "    for l in range(0, FEATURES):\n",
        "      if active.culture[l] == model.agents[i_nei[k]].culture[l]:\n",
        "        similarity += 1\n",
        "    lis_int_prob.append(similarity / FEATURES)\n",
        "\n",
        "  #in [1, 2, 6]\n",
        "\n",
        "\n",
        "  elif i == 90:\n",
        "    k = random.choice([0, 3, 5])\n",
        "    similarity = 0\n",
        "    for l in range(0, FEATURES):\n",
        "      if active.culture[l] == model.agents[i_nei[k]].culture[l]:\n",
        "        similarity += 1\n",
        "    lis_int_prob.append(similarity / FEATURES)\n",
        "\n",
        "  #in [0, 3, 5]\n",
        "\n",
        "\n",
        "  elif i == 99:\n",
        "    k = random.choice([0, 2, 4])\n",
        "    similarity = 0\n",
        "    for l in range(0, FEATURES):\n",
        "      if active.culture[l] == model.agents[i_nei[k]].culture[l]:\n",
        "        similarity += 1\n",
        "    lis_int_prob.append(similarity / FEATURES)\n",
        "\n",
        "  #in [0, 2, 4]\n",
        "\n",
        "\n",
        "  elif 1 <= i < 9:\n",
        "    k = random.choice([1, 2, 3, 6, 7])\n",
        "    similarity = 0\n",
        "    for l in range(0, FEATURES):\n",
        "      if active.culture[l] == model.agents[i_nei[k]].culture[l]:\n",
        "        similarity += 1\n",
        "    lis_int_prob.append(similarity / FEATURES)\n",
        "\n",
        "  #in [1, 2, 3, 6, 7]\n",
        "\n",
        "\n",
        "  elif 91 <= i < 99:\n",
        "    k = random.choice([0, 2, 3, 4, 5])\n",
        "    similarity = 0\n",
        "    for l in range(0, FEATURES):\n",
        "      if active.culture[l] == model.agents[i_nei[k]].culture[l]:\n",
        "        similarity += 1\n",
        "    lis_int_prob.append(similarity / FEATURES)\n",
        "\n",
        "  #in [0, 2, 3, 4, 5]\n",
        "\n",
        "\n",
        "  elif i % 10 == 0:\n",
        "    k = random.choice([0, 1, 3, 5, 7])\n",
        "    similarity = 0\n",
        "    for l in range(0, FEATURES):\n",
        "      if active.culture[l] == model.agents[i_nei[k]].culture[l]:\n",
        "        similarity += 1\n",
        "    lis_int_prob.append(similarity / FEATURES)\n",
        "\n",
        "  #in [0, 1, 3, 5, 7]\n",
        "\n",
        "\n",
        "  elif (i + 1) % 10 == 0:\n",
        "    k = random.choice([0, 1, 2, 4, 6])\n",
        "    similarity = 0\n",
        "    for l in range(0, FEATURES):\n",
        "      if active.culture[l] == model.agents[i_nei[k]].culture[l]:\n",
        "        similarity += 1\n",
        "    lis_int_prob.append(similarity / FEATURES)\n",
        "\n",
        "  #in [0, 1, 2, 4, 6]\n",
        "\n",
        "  else:\n",
        "    k = random.choice([0, 3, 5])\n",
        "    similarity = 0\n",
        "    for l in range(0, FEATURES):\n",
        "      if active.culture[l] == model.agents[i_nei[k]].culture[l]:\n",
        "        similarity += 1\n",
        "    lis_int_prob.append(similarity / FEATURES)"
      ],
      "metadata": {
        "id": "7rxmQY5bzVDJ"
      },
      "execution_count": 12,
      "outputs": []
    },
    {
      "cell_type": "code",
      "source": [
        "## 類似度のリストをマトリックスとして表示\n",
        "list_int_prob = np.array(lis_int_prob)\n",
        "list_int_prob = list_int_prob.reshape(10, 10)"
      ],
      "metadata": {
        "id": "HNbVLnAICFaE"
      },
      "execution_count": 13,
      "outputs": []
    },
    {
      "cell_type": "code",
      "source": [
        "## listを正しい順番に並べ替える\n",
        "l_i_t = np.array([list_int_prob[9]])\n",
        "\n",
        "for i in [8, 7, 6, 5, 4, 3, 2, 1, 0]:\n",
        "  l_i_t = np.insert(l_i_t,l_i_t.shape[0], np.array([list_int_prob[i]]), axis=0)\n",
        "\n",
        "print(l_i_t)"
      ],
      "metadata": {
        "id": "iJdTt3r91-Ip",
        "colab": {
          "base_uri": "https://localhost:8080/"
        },
        "outputId": "1968b9e6-a88a-42a9-d06b-889b39f2e777"
      },
      "execution_count": 14,
      "outputs": [
        {
          "output_type": "stream",
          "name": "stdout",
          "text": [
            "[[1. 1. 1. 1. 1. 1. 1. 1. 1. 1.]\n",
            " [1. 1. 1. 1. 1. 1. 1. 1. 1. 1.]\n",
            " [1. 1. 1. 1. 1. 1. 1. 1. 1. 1.]\n",
            " [1. 1. 1. 1. 1. 1. 1. 1. 1. 1.]\n",
            " [1. 1. 1. 1. 1. 1. 0. 0. 1. 1.]\n",
            " [1. 1. 1. 1. 1. 1. 0. 1. 1. 1.]\n",
            " [1. 1. 1. 1. 1. 1. 1. 0. 1. 1.]\n",
            " [1. 1. 1. 1. 1. 1. 1. 1. 1. 1.]\n",
            " [1. 1. 1. 1. 1. 1. 1. 1. 1. 1.]\n",
            " [1. 1. 1. 1. 1. 1. 1. 1. 1. 1.]]\n"
          ]
        }
      ]
    },
    {
      "cell_type": "code",
      "source": [
        "## 類似度の図示\n",
        "x = np.arange(0, 1, 0.1)\n",
        "y = np.arange(0, 1, 0.1)\n",
        "X,Y = np.meshgrid(x,y)\n",
        "Z = l_i_t\n",
        "\n",
        "\n",
        "aa = plt.pcolormesh(X,Y,Z,vmin=0,vmax=1)\n",
        "plt.colorbar(aa)\n",
        "plt.xlabel('X')\n",
        "plt.ylabel('Y')\n",
        "plt.show()"
      ],
      "metadata": {
        "colab": {
          "base_uri": "https://localhost:8080/",
          "height": 455
        },
        "id": "-t-G4cii2BPN",
        "outputId": "77f60526-9e87-4cab-884a-05c0272a8e95"
      },
      "execution_count": 15,
      "outputs": [
        {
          "output_type": "display_data",
          "data": {
            "text/plain": [
              "<Figure size 640x480 with 2 Axes>"
            ],
            "image/png": "[encoded data removed]"
          },
          "metadata": {}
        }
      ]
    }
  ]
}