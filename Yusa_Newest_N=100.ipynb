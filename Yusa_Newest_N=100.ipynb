{
  "cells": [
    {
      "cell_type": "markdown",
      "metadata": {
        "id": "view-in-github",
        "colab_type": "text"
      },
      "source": [
        "<a href=\"https://colab.research.google.com/github/macotoyusa/README/blob/main/Yusa_Newest_N%3D100.ipynb\" target=\"_parent\"><img src=\"https://colab.research.google.com/assets/colab-badge.svg\" alt=\"Open In Colab\"/></a>"
      ]
    },
    {
      "cell_type": "markdown",
      "metadata": {
        "id": "Gy4Odf2Q9mM0"
      },
      "source": [
        "ソーシャルメディアモデル_最新版：Yusa(2023)のオリジナルモデル"
      ]
    },
    {
      "cell_type": "code",
      "execution_count": null,
      "metadata": {
        "id": "TfCOIKSv92R6"
      },
      "outputs": [],
      "source": [
        "## パラメータの設定\n",
        "SIZE = 10\n",
        "TRAITS = [0, 1, 2, 3, 4, 5, 6, 7, 8, 9]\n",
        "FEATURES = 5\n",
        "RUNS = 100000\n",
        "R = 0\n",
        "PREFERENCE = 0.3\n",
        "\n",
        "SEED = 1\n",
        "\n",
        "#Traitsの倉庫(コピペして使ってね！)\n",
        "#[0, 1, 2, 3, 4, 5, 6, 7, 8, 9]\n",
        "#[0, 1, 2, 3, 4, 5, 6, 7, 8, 9, 10, 11, 12, 13, 14, 15, 16, 17, 18, 19, 20, 21, 22, 23, 24]\n",
        "#[0, 1, 2, 3, 4, 5, 6, 7, 8, 9, 10, 11, 12, 13, 14, 15, 16, 17, 18, 19, 20, 21, 22, 23, 24, 25, 26, 27, 28, 29]\n",
        "#[0, 1, 2, 3, 4, 5, 6, 7, 8, 9, 10, 11, 12, 13, 14, 15, 16, 17, 18, 19, 20, 21, 22, 23, 24, 25, 26, 27, 28, 29, 30, 31, 32, 33, 34, 35, 36, 37, 38, 39]\n",
        "#[0, 1, 2, 3, 4, 5, 6, 7, 8, 9, 10, 11, 12, 13, 14, 15, 16, 17, 18, 19, 20, 21, 22, 23, 24, 25, 26, 27, 28, 29, 30, 31, 32, 33, 34, 35, 36, 37, 38, 39, 40, 41, 42, 43, 44, 45, 46, 47, 48, 49]"
      ]
    },
    {
      "cell_type": "code",
      "execution_count": null,
      "metadata": {
        "id": "hsmK9uIgaxio"
      },
      "outputs": [],
      "source": [
        "## 生成する格子状の社会における関数\n",
        "# 「位置」を返す関数\n",
        "def find_location(index, SIZE):\n",
        "    \"\"\"\n",
        "    与えられたインデックスから、サイズが SIZE**2 の正方形のグリッド内でのx座標とy座標を見つけるコード。\n",
        "    左から右へ、上から下へと行を数えると仮定し、領域は正方形であるとする。\n",
        "    行と列はPythonのインデックス規則に従って0から始まる。\n",
        "\n",
        "    e.g.\n",
        "        0  1  2\n",
        "    0  [0, 1, 2,\n",
        "    1   3, 4, 5,\n",
        "    2   6, 7, 8]\n",
        "\n",
        "    4 = [1, 1]\n",
        "    \"\"\"\n",
        "    x_pos = index % SIZE\n",
        "    y_pos = index // SIZE\n",
        "    return [x_pos, y_pos]\n",
        "\n",
        "# 「index」を返す関数\n",
        "def find_index(loc, SIZE):\n",
        "    \"\"\"\n",
        "    位置情報からindexを返す\n",
        "    \"\"\"\n",
        "    index = (loc[1] * SIZE - 1) + (loc[0] + 1)\n",
        "    return index\n",
        "\n",
        "# 「Neighborの位置情報」を返す関数\n",
        "def find_neighbors(loc):\n",
        "    \"\"\"\n",
        "    対象のエージェントの位置情報から、Neighborの位置情報を返す\n",
        "    \"\"\"\n",
        "    N = loc[0], loc[1] - 1\n",
        "    S = loc[0], loc[1] + 1\n",
        "    W = loc[0] - 1, loc[1]\n",
        "    E = loc[0] + 1, loc[1]\n",
        "    NW = loc[0] - 1, loc[1] - 1\n",
        "    NE = loc[0] + 1, loc[1] - 1\n",
        "    SW = loc[0] - 1, loc[1] + 1\n",
        "    SE = loc[0] + 1, loc[1] + 1\n",
        "    return [N, S, W, E, NW, NE, SW, SE]"
      ]
    },
    {
      "cell_type": "code",
      "execution_count": null,
      "metadata": {
        "id": "EcjcQSMZlUol"
      },
      "outputs": [],
      "source": [
        "## モデルとエージェントの定義\n",
        "# モデルを生成するためのエージェント\n",
        "class Agent():\n",
        "\n",
        "    def __init__(self):\n",
        "        self.culture = [rd.choice(TRAITS) for i in range(FEATURES)]\n",
        "\n",
        "    # 交流時、エージェントの文化を変容させる関数\n",
        "    def culture_share(self, target, model, soc):\n",
        "\n",
        "      #隣人との類似度の算出\n",
        "      similarity_n = 0\n",
        "      for i in model.agents[target].culture:\n",
        "        if i == self.culture[model.agents[target].culture.index(i)]:\n",
        "          similarity_n += 1\n",
        "      interaction_probability_n = similarity_n / FEATURES\n",
        "\n",
        "      #変容の過程\n",
        "      if rd.uniform(0, 1) < interaction_probability_n:\n",
        "        while True:\n",
        "          shared = rd.randint(0, FEATURES - 1)\n",
        "          if interaction_probability_n == 1.0:\n",
        "            break\n",
        "          elif self.culture[shared] != model.agents[target].culture[shared]:\n",
        "            if model.agents[target].culture == soc.culture[shared]:\n",
        "              self.culture[shared] = model.agents[target].culture[shared]\n",
        "              break\n",
        "            else:\n",
        "              if rd.uniform(0, 1) < R:\n",
        "                pass\n",
        "              else:\n",
        "                self.culture[shared] = model.agents[target].culture[shared]\n",
        "                break\n",
        "          else:\n",
        "            pass\n",
        "\n",
        "# モデルの定義\n",
        "class Axelrod():\n",
        "\n",
        "    def __init__(self):\n",
        "        self.agents = [Agent() for i in range(SIZE**2)]\n",
        "\n",
        "    # Activeと、そのNeighborを交流させる関数 (Activeのindexに応じて、より正確にNeighborを定義した)\n",
        "    def tick(self, model):\n",
        "        try:\n",
        "            active = rd.choice(self.agents)\n",
        "            active_num = find_index((find_location((model.agents.index(active)), SIZE)), SIZE)\n",
        "\n",
        "            while True:\n",
        "              if active_num == 0:\n",
        "                weight_list = [0,1,0,1,0,0,0,1]\n",
        "                passive = find_index(rd.choices(find_neighbors(find_location(model.agents.index(active), SIZE)), weights=weight_list)[0], SIZE)\n",
        "                break\n",
        "              #in [1, 3, 7]\n",
        "\n",
        "              elif active_num == 9:\n",
        "                weight_list = [0,1,1,0,0,0,1,0]\n",
        "                passive = find_index(rd.choices(find_neighbors(find_location(model.agents.index(active), SIZE)), weights=weight_list)[0], SIZE)\n",
        "                break\n",
        "              #in [1, 2, 6]\n",
        "\n",
        "              elif active_num == 90:\n",
        "                weight_list = [1,0,0,1,0,1,0,0]\n",
        "                passive = find_index(rd.choices(find_neighbors(find_location(model.agents.index(active), SIZE)), weights=weight_list)[0], SIZE)\n",
        "                break\n",
        "              #in [0, 3, 5]\n",
        "\n",
        "              elif active_num == 99:\n",
        "                weight_list = [1,0,1,0,1,0,0,0]\n",
        "                passive = find_index(rd.choices(find_neighbors(find_location(model.agents.index(active), SIZE)), weights=weight_list)[0], SIZE)\n",
        "                break\n",
        "              #in [0, 2, 4]\n",
        "\n",
        "              elif 1 <= active_num < 9:\n",
        "                weight_list = [0,1,1,1,0,0,1,0]\n",
        "                passive = find_index(rd.choices(find_neighbors(find_location(model.agents.index(active), SIZE)), weights=weight_list)[0], SIZE)\n",
        "                break\n",
        "              #in [1, 2, 3, 6, 7]\n",
        "\n",
        "              elif 91 <= active_num < 99:\n",
        "                weight_list = [1,0,1,1,1,1,0,0]\n",
        "                passive = find_index(rd.choices(find_neighbors(find_location(model.agents.index(active), SIZE)), weights=weight_list)[0], SIZE)\n",
        "                break\n",
        "              #in [0, 2, 3, 4, 5]\n",
        "\n",
        "              elif active_num % 10 == 0:\n",
        "                weight_list = [1,1,0,1,0,1,0,1]\n",
        "                passive = find_index(rd.choices(find_neighbors(find_location(model.agents.index(active), SIZE)), weights=weight_list)[0], SIZE)\n",
        "                break\n",
        "              #in [0, 1, 3, 5, 7]\n",
        "\n",
        "              elif (active_num + 1) % 10 == 0:\n",
        "                weight_list = [1,1,1,0,1,0,1,0]\n",
        "                passive = find_index(rd.choices(find_neighbors(find_location(model.agents.index(active), SIZE)), weights=weight_list)[0], SIZE)\n",
        "                break\n",
        "              #in [0, 1, 2, 4, 6]\n",
        "\n",
        "              else:\n",
        "                weight_list = [1,1,1,1,1,1,1,1]\n",
        "                passive = find_index(rd.choices(find_neighbors(find_location(model.agents.index(active), SIZE)), weights=weight_list)[0], SIZE)\n",
        "                break\n",
        "\n",
        "            soc = SocMedia(model, active)\n",
        "            active.culture_share(passive, self, soc)\n",
        "        except IndexError:\n",
        "            self.tick(model)\n",
        "\n",
        "    # モデルの文化を、リストのような形で返す関数\n",
        "    def show_state(self):\n",
        "        for n in range(0, SIZE):\n",
        "            row = [self.agents[i].culture for i in range(n * SIZE, n * (SIZE) + SIZE)]\n",
        "            for agent in row:\n",
        "                print(\"[\", end=\"\")\n",
        "                print(*agent, sep=\",\", end=\"\")\n",
        "                print(\"]\", end=\"\")\n",
        "            print()\n",
        "            print(\"-\" * (SIZE*FEATURES*2+SIZE))\n",
        "\n",
        "    # 一定回数シミュレーションを繰り返す関数\n",
        "    def run_sim(self):\n",
        "        print(\"Initial state of the model:\")\n",
        "        print()\n",
        "        self.show_state()\n",
        "        print()\n",
        "        print(\"Running simulation...\")\n",
        "        for r in range(1,RUNS):\n",
        "          self.tick(model)\n",
        "        print(\"Final state of the model:\")\n",
        "        self.show_state()\n",
        "\n",
        "###ソーシャルメディアの生成\n",
        "class SocMedia():\n",
        "\n",
        "    def __init__(self, model, active):\n",
        "        self.culture = []\n",
        "        self.choosing = self.choosing(model, active)\n",
        "\n",
        "    def choosing(self, model, active):\n",
        "        #似たエージェントのリスト\n",
        "        lis_sim_agents  = []  #似たエージェントのリスト\n",
        "        for i in range(0, len(model.agents)):\n",
        "          a = 0\n",
        "          for j in range(0, FEATURES):\n",
        "            if active.culture[j] == model.agents[i].culture[j]:\n",
        "              a += 1\n",
        "          if a/FEATURES >= PREFERENCE:\n",
        "            lis_sim_agents.append(model.agents[i].culture)\n",
        "        self.culture = rd.choice(lis_sim_agents)\n",
        "\n",
        "          #activeのFEATURESとその他のエージェントのFEATURESを比較\n",
        "          #もし、その類似度が、PREFERENCE以上ならリストに入れる\n",
        "          #そのリストの中から、ランダム(もし可能なら類似性の高さに応じて)にエージェントを抽出し、それをSocMediaのTraitsとする"
      ]
    },
    {
      "cell_type": "code",
      "execution_count": null,
      "metadata": {
        "colab": {
          "base_uri": "https://localhost:8080/"
        },
        "id": "aTxh3K7H-Jot",
        "outputId": "f322888c-2345-49c0-dc16-3f8627d7cac0"
      },
      "outputs": [
        {
          "name": "stdout",
          "output_type": "stream",
          "text": [
            "[2,9,1,4,1][7,7,7,6,3][1,7,0,6,6][9,0,7,4,3][9,1,5,0,0][0,8,0,6,3][6,0,8,3,7][7,8,3,5,3][3,7,4,0,6][8,1,2,4,1]\n",
            "--------------------------------------------------------------------------------------------------------------\n",
            "[5,8,6,8,3][4,4,9,7,8][6,9,0,7,3][6,6,2,5,8][5,1,7,8,1][2,8,6,5,7][0,7,0,4,9][9,9,6,2,2][8,3,0,3,8][8,3,6,8,5]\n",
            "--------------------------------------------------------------------------------------------------------------\n",
            "[9,5,7,4,8][9,0,6,8,2][8,8,3,6,0][7,5,9,8,3][8,6,7,5,6][5,0,8,8,9][9,5,7,9,0][3,2,8,9,2][1,8,4,0,1][1,0,7,0,4]\n",
            "--------------------------------------------------------------------------------------------------------------\n",
            "[3,4,1,9,2][5,4,1,2,2][4,8,2,4,4][7,5,7,7,1][0,4,6,5,6][3,4,1,4,8][3,9,6,0,3][0,6,2,0,2][7,8,6,8,3][8,7,3,8,0]\n",
            "--------------------------------------------------------------------------------------------------------------\n",
            "[6,9,5,6,0][4,2,3,0,4][1,1,4,4,2][6,9,4,2,0][8,0,9,3,9][7,2,9,8,0][6,3,5,1,3][9,6,9,3,7][1,6,4,8,7][0,5,9,6,4]\n",
            "--------------------------------------------------------------------------------------------------------------\n",
            "[0,2,3,5,9][2,5,6,3,4][1,6,8,5,8][7,8,3,1,0][1,2,2,2,8][3,4,5,9,8][4,5,5,5,1][4,3,9,7,2][9,8,1,5,0][6,1,6,2,2]\n",
            "--------------------------------------------------------------------------------------------------------------\n",
            "[5,1,9,9,6][1,9,8,3,9][1,4,5,4,9][8,1,7,4,1][0,4,0,9,0][1,6,1,0,3][3,9,6,2,1][7,2,3,2,1][6,6,8,4,8][4,7,5,1,3]\n",
            "--------------------------------------------------------------------------------------------------------------\n",
            "[5,0,0,0,4][9,5,7,6,5][6,1,1,5,9][7,1,4,3,9][8,7,5,4,2][8,3,4,3,3][5,1,4,1,7][1,9,5,3,6][4,0,5,2,5][9,4,3,5,1]\n",
            "--------------------------------------------------------------------------------------------------------------\n",
            "[8,9,9,9,1][3,3,0,3,6][1,4,8,1,1][0,0,4,5,7][7,2,1,8,5][1,8,2,2,2][2,5,4,1,8][9,4,2,3,2][8,0,5,9,8][3,2,4,6,8]\n",
            "--------------------------------------------------------------------------------------------------------------\n",
            "[2,0,3,4,1][7,6,8,4,8][7,8,7,0,6][5,2,4,7,0][6,9,0,0,5][9,2,9,2,2][4,4,6,9,6][2,9,1,3,7][0,2,8,5,8][7,3,3,5,7]\n",
            "--------------------------------------------------------------------------------------------------------------\n"
          ]
        }
      ],
      "source": [
        "##全ケースの初期状態\n",
        "# シード値の設定\n",
        "rd.seed(SEED)\n",
        "\n",
        "model = Axelrod()\n",
        "model.show_state()"
      ]
    },
    {
      "cell_type": "code",
      "execution_count": null,
      "metadata": {
        "id": "dPvdFzC2AN96"
      },
      "outputs": [],
      "source": [
        "##類似度の計算\n",
        "\"ランダムで隣人を選択し、その類似度を測っている。それでいいのか？\"\n",
        "lis_int_prob = []\n",
        "\n",
        "for i in range(0, len(model.agents)):\n",
        "  active = model.agents[i]\n",
        "\n",
        "  #隣人の生成\n",
        "  neighbours = find_neighbors(find_location(model.agents.index(active), SIZE))\n",
        "  i_nei = []\n",
        "  for j in neighbours:\n",
        "    i_nei.append(find_index(j, SIZE))\n",
        "  i_nei\n",
        "\n",
        "  #activeの場所に応じて、とれる隣人が変わる\n",
        "  if i == 0:\n",
        "    k = random.choice([1, 3, 7])\n",
        "    similarity = 0\n",
        "    for l in range(0, FEATURES):\n",
        "      if active.culture[l] == model.agents[i_nei[k]].culture[l]:\n",
        "        similarity += 1\n",
        "    lis_int_prob.append(similarity / FEATURES)\n",
        "\n",
        "  #in [1, 3, 7]\n",
        "\n",
        "\n",
        "  elif i == 9:\n",
        "    k = random.choice([1, 2, 6])\n",
        "    similarity = 0\n",
        "    for l in range(0, FEATURES):\n",
        "      if active.culture[l] == model.agents[i_nei[k]].culture[l]:\n",
        "        similarity += 1\n",
        "    lis_int_prob.append(similarity / FEATURES)\n",
        "\n",
        "  #in [1, 2, 6]\n",
        "\n",
        "\n",
        "  elif i == 90:\n",
        "    k = random.choice([0, 3, 5])\n",
        "    similarity = 0\n",
        "    for l in range(0, FEATURES):\n",
        "      if active.culture[l] == model.agents[i_nei[k]].culture[l]:\n",
        "        similarity += 1\n",
        "    lis_int_prob.append(similarity / FEATURES)\n",
        "\n",
        "  #in [0, 3, 5]\n",
        "\n",
        "\n",
        "  elif i == 99:\n",
        "    k = random.choice([0, 2, 4])\n",
        "    similarity = 0\n",
        "    for l in range(0, FEATURES):\n",
        "      if active.culture[l] == model.agents[i_nei[k]].culture[l]:\n",
        "        similarity += 1\n",
        "    lis_int_prob.append(similarity / FEATURES)\n",
        "\n",
        "  #in [0, 2, 4]\n",
        "\n",
        "\n",
        "  elif 1 <= i < 9:\n",
        "    k = random.choice([1, 2, 3, 6, 7])\n",
        "    similarity = 0\n",
        "    for l in range(0, FEATURES):\n",
        "      if active.culture[l] == model.agents[i_nei[k]].culture[l]:\n",
        "        similarity += 1\n",
        "    lis_int_prob.append(similarity / FEATURES)\n",
        "\n",
        "  #in [1, 2, 3, 6, 7]\n",
        "\n",
        "\n",
        "  elif 91 <= i < 99:\n",
        "    k = random.choice([0, 2, 3, 4, 5])\n",
        "    similarity = 0\n",
        "    for l in range(0, FEATURES):\n",
        "      if active.culture[l] == model.agents[i_nei[k]].culture[l]:\n",
        "        similarity += 1\n",
        "    lis_int_prob.append(similarity / FEATURES)\n",
        "\n",
        "  #in [0, 2, 3, 4, 5]\n",
        "\n",
        "\n",
        "  elif i % 10 == 0:\n",
        "    k = random.choice([0, 1, 3, 5, 7])\n",
        "    similarity = 0\n",
        "    for l in range(0, FEATURES):\n",
        "      if active.culture[l] == model.agents[i_nei[k]].culture[l]:\n",
        "        similarity += 1\n",
        "    lis_int_prob.append(similarity / FEATURES)\n",
        "\n",
        "  #in [0, 1, 3, 5, 7]\n",
        "\n",
        "\n",
        "  elif (i + 1) % 10 == 0:\n",
        "    k = random.choice([0, 1, 2, 4, 6])\n",
        "    similarity = 0\n",
        "    for l in range(0, FEATURES):\n",
        "      if active.culture[l] == model.agents[i_nei[k]].culture[l]:\n",
        "        similarity += 1\n",
        "    lis_int_prob.append(similarity / FEATURES)\n",
        "\n",
        "  #in [0, 1, 2, 4, 6]\n",
        "\n",
        "  else:\n",
        "    k = random.choice([0, 1, 2, 3, 4, 5, 6, 7])\n",
        "    similarity = 0\n",
        "    for l in range(0, FEATURES):\n",
        "      if active.culture[l] == model.agents[i_nei[k]].culture[l]:\n",
        "        similarity += 1\n",
        "    lis_int_prob.append(similarity / FEATURES)"
      ]
    },
    {
      "cell_type": "code",
      "execution_count": null,
      "metadata": {
        "id": "anKh6_fH_apj"
      },
      "outputs": [],
      "source": [
        "## 類似度のリストをマトリックスとして表示\n",
        "list_int_prob = np.array(lis_int_prob)\n",
        "list_int_prob = list_int_prob.reshape(10, 10)"
      ]
    },
    {
      "cell_type": "code",
      "execution_count": null,
      "metadata": {
        "colab": {
          "base_uri": "https://localhost:8080/"
        },
        "id": "HtwKMLHurGlD",
        "outputId": "0a5fbc8f-8e10-434d-eed4-9373f49560ba"
      },
      "outputs": [
        {
          "name": "stdout",
          "output_type": "stream",
          "text": [
            "[[0.2 0.  0.  0.2 0.  0.  0.  0.2 0.4 0.2]\n",
            " [0.  0.  0.  0.  0.2 0.  0.  0.  0.2 0. ]\n",
            " [0.  0.  0.2 0.4 0.2 0.  0.  0.2 0.  0. ]\n",
            " [0.  0.4 0.  0.  0.  0.  0.2 0.  0.  0. ]\n",
            " [0.  0.  0.  0.2 0.2 0.  0.  0.  0.  0. ]\n",
            " [0.  0.2 0.  0.2 0.  0.  0.2 0.  0.  0. ]\n",
            " [0.  0.2 0.4 0.2 0.  0.2 0.  0.2 0.  0. ]\n",
            " [0.  0.2 0.2 0.  0.  0.  0.  0.2 0.4 0. ]\n",
            " [0.  0.  0.2 0.  0.2 0.  0.4 0.  0.  0. ]\n",
            " [0.  0.2 0.4 0.2 0.  0.4 0.  0.  0.  0.2]]\n"
          ]
        }
      ],
      "source": [
        "## listを正しい順番に並べ替える\n",
        "l_i_t = np.array([list_int_prob[9]])\n",
        "\n",
        "for i in [8, 7, 6, 5, 4, 3, 2, 1, 0]:\n",
        "  l_i_t = np.insert(l_i_t,l_i_t.shape[0], np.array([list_int_prob[i]]), axis=0)\n",
        "\n",
        "print(l_i_t)"
      ]
    },
    {
      "cell_type": "code",
      "execution_count": null,
      "metadata": {
        "colab": {
          "base_uri": "https://localhost:8080/",
          "height": 455
        },
        "id": "D6oWwKkt03Bp",
        "outputId": "e0748133-40fa-4d2c-b3be-f38f97a72c78"
      },
      "outputs": [
        {
          "data": {
            "image/png": "[encoded data removed]",
            "text/plain": [
              "<Figure size 640x480 with 2 Axes>"
            ]
          },
          "metadata": {},
          "output_type": "display_data"
        }
      ],
      "source": [
        "## 類似度の図示\n",
        "x = np.arange(0, 1, 0.1)\n",
        "y = np.arange(0, 1, 0.1)\n",
        "X,Y = np.meshgrid(x,y)\n",
        "Z = l_i_t\n",
        "\n",
        "\n",
        "aa = plt.pcolormesh(X,Y,Z,vmin=0,vmax=1)\n",
        "plt.colorbar(aa)\n",
        "plt.xlabel('X')\n",
        "plt.ylabel('Y')\n",
        "plt.show()"
      ]
    },
    {
      "cell_type": "code",
      "execution_count": null,
      "metadata": {
        "colab": {
          "base_uri": "https://localhost:8080/"
        },
        "id": "ztaCjwGIRV0G",
        "outputId": "b2db9d34-09f3-4249-a97e-1a848da25a1d"
      },
      "outputs": [
        {
          "name": "stdout",
          "output_type": "stream",
          "text": [
            "[2,9,1,4,1][7,7,7,6,3][1,7,0,6,6][9,0,7,4,3][9,1,5,0,0][0,8,0,6,3][6,0,8,3,7][7,8,3,5,3][3,7,4,0,6][8,1,2,4,1]\n",
            "--------------------------------------------------------------------------------------------------------------\n",
            "[5,8,6,8,3][4,4,9,7,8][6,9,0,7,3][6,6,2,5,8][5,1,7,8,1][2,8,6,5,7][0,7,0,4,9][9,9,6,2,2][8,3,0,3,8][8,3,6,8,5]\n",
            "--------------------------------------------------------------------------------------------------------------\n",
            "[9,5,7,4,8][9,0,6,8,2][8,8,3,6,0][7,5,9,8,3][8,6,7,5,6][5,0,8,8,9][9,5,7,9,0][3,2,8,9,2][1,8,4,0,1][1,0,7,0,4]\n",
            "--------------------------------------------------------------------------------------------------------------\n",
            "[3,4,1,9,2][5,4,1,2,2][4,8,2,4,4][7,5,7,7,1][0,4,6,5,6][3,4,1,4,8][3,9,6,0,3][0,6,2,0,2][7,8,6,8,3][8,7,3,8,0]\n",
            "--------------------------------------------------------------------------------------------------------------\n",
            "[6,9,5,6,0][4,2,3,0,4][1,1,4,4,2][6,9,4,2,0][8,0,9,3,9][7,2,9,8,0][6,3,5,1,3][9,6,9,3,7][1,6,4,8,7][0,5,9,6,4]\n",
            "--------------------------------------------------------------------------------------------------------------\n",
            "[0,2,3,5,9][2,5,6,3,4][1,6,8,5,8][7,8,3,1,0][1,2,2,2,8][3,4,5,9,8][4,5,5,5,1][4,3,9,7,2][9,8,1,5,0][6,1,6,2,2]\n",
            "--------------------------------------------------------------------------------------------------------------\n",
            "[5,1,9,9,6][1,9,8,3,9][1,4,5,4,9][8,1,7,4,1][0,4,0,9,0][1,6,1,0,3][3,9,6,2,1][7,2,3,2,1][6,6,8,4,8][4,7,5,1,3]\n",
            "--------------------------------------------------------------------------------------------------------------\n",
            "[5,0,0,0,4][9,5,7,6,5][6,1,1,5,9][7,1,4,3,9][8,7,5,4,2][8,3,4,3,3][5,1,4,1,7][1,9,5,3,6][4,0,5,2,5][9,4,3,5,1]\n",
            "--------------------------------------------------------------------------------------------------------------\n",
            "[8,9,9,9,1][3,3,0,3,6][1,4,8,1,1][0,0,4,5,7][7,2,1,8,5][1,8,2,2,2][2,5,4,1,8][9,4,2,3,2][8,0,5,9,8][3,2,4,6,8]\n",
            "--------------------------------------------------------------------------------------------------------------\n",
            "[2,0,3,4,1][7,6,8,4,8][7,8,7,0,6][5,2,4,7,0][6,9,0,0,5][9,2,9,2,2][4,4,6,9,6][2,9,1,3,7][0,2,8,5,8][7,3,3,5,7]\n",
            "--------------------------------------------------------------------------------------------------------------\n"
          ]
        }
      ],
      "source": [
        "model.show_state()"
      ]
    },
    {
      "cell_type": "code",
      "execution_count": null,
      "metadata": {
        "colab": {
          "base_uri": "https://localhost:8080/"
        },
        "id": "_gmHeDSlxYnB",
        "outputId": "0f166b0a-9c15-43e4-9a91-40a43f78215e"
      },
      "outputs": [
        {
          "name": "stdout",
          "output_type": "stream",
          "text": [
            "Initial state of the model:\n",
            "\n",
            "[2,9,1,4,1][7,7,7,6,3][1,7,0,6,6][9,0,7,4,3][9,1,5,0,0][0,8,0,6,3][6,0,8,3,7][7,8,3,5,3][3,7,4,0,6][8,1,2,4,1]\n",
            "--------------------------------------------------------------------------------------------------------------\n",
            "[5,8,6,8,3][4,4,9,7,8][6,9,0,7,3][6,6,2,5,8][5,1,7,8,1][2,8,6,5,7][0,7,0,4,9][9,9,6,2,2][8,3,0,3,8][8,3,6,8,5]\n",
            "--------------------------------------------------------------------------------------------------------------\n",
            "[9,5,7,4,8][9,0,6,8,2][8,8,3,6,0][7,5,9,8,3][8,6,7,5,6][5,0,8,8,9][9,5,7,9,0][3,2,8,9,2][1,8,4,0,1][1,0,7,0,4]\n",
            "--------------------------------------------------------------------------------------------------------------\n",
            "[3,4,1,9,2][5,4,1,2,2][4,8,2,4,4][7,5,7,7,1][0,4,6,5,6][3,4,1,4,8][3,9,6,0,3][0,6,2,0,2][7,8,6,8,3][8,7,3,8,0]\n",
            "--------------------------------------------------------------------------------------------------------------\n",
            "[6,9,5,6,0][4,2,3,0,4][1,1,4,4,2][6,9,4,2,0][8,0,9,3,9][7,2,9,8,0][6,3,5,1,3][9,6,9,3,7][1,6,4,8,7][0,5,9,6,4]\n",
            "--------------------------------------------------------------------------------------------------------------\n",
            "[0,2,3,5,9][2,5,6,3,4][1,6,8,5,8][7,8,3,1,0][1,2,2,2,8][3,4,5,9,8][4,5,5,5,1][4,3,9,7,2][9,8,1,5,0][6,1,6,2,2]\n",
            "--------------------------------------------------------------------------------------------------------------\n",
            "[5,1,9,9,6][1,9,8,3,9][1,4,5,4,9][8,1,7,4,1][0,4,0,9,0][1,6,1,0,3][3,9,6,2,1][7,2,3,2,1][6,6,8,4,8][4,7,5,1,3]\n",
            "--------------------------------------------------------------------------------------------------------------\n",
            "[5,0,0,0,4][9,5,7,6,5][6,1,1,5,9][7,1,4,3,9][8,7,5,4,2][8,3,4,3,3][5,1,4,1,7][1,9,5,3,6][4,0,5,2,5][9,4,3,5,1]\n",
            "--------------------------------------------------------------------------------------------------------------\n",
            "[8,9,9,9,1][3,3,0,3,6][1,4,8,1,1][0,0,4,5,7][7,2,1,8,5][1,8,2,2,2][2,5,4,1,8][9,4,2,3,2][8,0,5,9,8][3,2,4,6,8]\n",
            "--------------------------------------------------------------------------------------------------------------\n",
            "[2,0,3,4,1][7,6,8,4,8][7,8,7,0,6][5,2,4,7,0][6,9,0,0,5][9,2,9,2,2][4,4,6,9,6][2,9,1,3,7][0,2,8,5,8][7,3,3,5,7]\n",
            "--------------------------------------------------------------------------------------------------------------\n",
            "\n",
            "Running simulation...\n",
            "Final state of the model:\n",
            "[2,9,1,4,1][9,7,0,6,3][9,7,0,6,3][9,7,0,6,3][6,4,2,1,0][6,4,2,1,0][6,4,2,1,0][6,4,2,1,0][3,7,4,0,6][6,4,2,1,0]\n",
            "--------------------------------------------------------------------------------------------------------------\n",
            "[5,0,6,9,2][3,2,4,5,8][9,7,0,6,3][6,4,2,1,0][6,4,2,1,0][6,4,2,1,0][6,4,2,1,0][6,4,2,1,0][6,4,2,1,0][6,4,2,1,0]\n",
            "--------------------------------------------------------------------------------------------------------------\n",
            "[3,2,4,5,8][5,0,6,9,2][3,2,4,5,8][6,4,2,1,0][6,4,2,1,0][6,4,2,1,0][6,4,2,1,0][6,4,2,1,0][6,4,2,1,0][6,4,2,1,0]\n",
            "--------------------------------------------------------------------------------------------------------------\n",
            "[5,0,6,9,2][5,0,6,9,2][3,2,4,5,8][3,2,4,5,8][3,2,4,5,8][6,4,2,1,0][6,4,2,1,0][6,4,2,1,0][6,4,2,1,0][6,4,2,1,0]\n",
            "--------------------------------------------------------------------------------------------------------------\n",
            "[6,9,5,6,0][3,2,4,5,8][3,2,4,5,8][3,2,4,5,8][3,2,4,5,8][3,2,4,5,8][6,4,2,1,0][6,4,2,1,0][6,4,2,1,0][6,4,2,1,0]\n",
            "--------------------------------------------------------------------------------------------------------------\n",
            "[3,2,4,5,8][3,2,4,5,8][3,2,4,5,8][3,2,4,5,8][3,2,4,5,8][3,2,4,5,8][6,4,2,1,0][6,4,2,1,0][6,4,2,1,0][6,4,2,1,0]\n",
            "--------------------------------------------------------------------------------------------------------------\n",
            "[3,2,4,5,8][3,2,4,5,8][3,2,4,5,8][3,2,4,5,8][3,2,4,5,8][3,2,4,5,8][6,4,2,1,0][6,4,2,1,0][6,4,2,1,0][6,4,2,1,0]\n",
            "--------------------------------------------------------------------------------------------------------------\n",
            "[3,2,4,5,8][9,5,7,6,5][3,2,4,5,8][3,2,4,5,8][3,2,4,5,8][6,4,2,1,0][6,4,2,1,0][6,4,2,1,0][6,4,2,1,0][6,4,2,1,0]\n",
            "--------------------------------------------------------------------------------------------------------------\n",
            "[2,9,8,9,1][3,2,4,5,8][3,2,4,5,8][3,2,4,5,8][3,2,4,5,8][6,4,2,1,0][6,4,2,1,0][6,4,2,1,0][6,4,2,1,0][3,2,4,6,8]\n",
            "--------------------------------------------------------------------------------------------------------------\n",
            "[2,9,8,9,1][7,8,9,9,6][7,8,9,9,6][3,2,4,5,8][3,2,4,5,8][3,2,4,5,8][6,4,2,1,0][3,2,4,6,8][3,2,4,6,8][6,4,2,1,0]\n",
            "--------------------------------------------------------------------------------------------------------------\n"
          ]
        }
      ],
      "source": [
        "##シミュレーションの実施\n",
        "model.run_sim()"
      ]
    },
    {
      "cell_type": "code",
      "execution_count": null,
      "metadata": {
        "id": "7rxmQY5bzVDJ"
      },
      "outputs": [],
      "source": [
        "## 類似度の計算\n",
        "lis_int_prob = []\n",
        "\n",
        "for i in range(0, len(model.agents)):\n",
        "  active = model.agents[i]\n",
        "\n",
        "#隣人の生成\n",
        "  neighbours = find_neighbors(find_location(model.agents.index(active), SIZE))\n",
        "  i_nei = []\n",
        "  for j in neighbours:\n",
        "    i_nei.append(find_index(j, SIZE))\n",
        "  i_nei\n",
        "\n",
        "#activeの場所に応じて、とれる隣人が変わる\n",
        "  if i == 0:\n",
        "    k = random.choice([1, 3, 7])\n",
        "    similarity = 0\n",
        "    for l in range(0, FEATURES):\n",
        "      if active.culture[l] == model.agents[i_nei[k]].culture[l]:\n",
        "        similarity += 1\n",
        "    lis_int_prob.append(similarity / FEATURES)\n",
        "\n",
        "  #in [1, 3, 7]\n",
        "\n",
        "\n",
        "  elif i == 9:\n",
        "    k = random.choice([1, 2, 6])\n",
        "    similarity = 0\n",
        "    for l in range(0, FEATURES):\n",
        "      if active.culture[l] == model.agents[i_nei[k]].culture[l]:\n",
        "        similarity += 1\n",
        "    lis_int_prob.append(similarity / FEATURES)\n",
        "\n",
        "  #in [1, 2, 6]\n",
        "\n",
        "\n",
        "  elif i == 90:\n",
        "    k = random.choice([0, 3, 5])\n",
        "    similarity = 0\n",
        "    for l in range(0, FEATURES):\n",
        "      if active.culture[l] == model.agents[i_nei[k]].culture[l]:\n",
        "        similarity += 1\n",
        "    lis_int_prob.append(similarity / FEATURES)\n",
        "\n",
        "  #in [0, 3, 5]\n",
        "\n",
        "\n",
        "  elif i == 99:\n",
        "    k = random.choice([0, 2, 4])\n",
        "    similarity = 0\n",
        "    for l in range(0, FEATURES):\n",
        "      if active.culture[l] == model.agents[i_nei[k]].culture[l]:\n",
        "        similarity += 1\n",
        "    lis_int_prob.append(similarity / FEATURES)\n",
        "\n",
        "  #in [0, 2, 4]\n",
        "\n",
        "\n",
        "  elif 1 <= i < 9:\n",
        "    k = random.choice([1, 2, 3, 6, 7])\n",
        "    similarity = 0\n",
        "    for l in range(0, FEATURES):\n",
        "      if active.culture[l] == model.agents[i_nei[k]].culture[l]:\n",
        "        similarity += 1\n",
        "    lis_int_prob.append(similarity / FEATURES)\n",
        "\n",
        "  #in [1, 2, 3, 6, 7]\n",
        "\n",
        "\n",
        "  elif 91 <= i < 99:\n",
        "    k = random.choice([0, 2, 3, 4, 5])\n",
        "    similarity = 0\n",
        "    for l in range(0, FEATURES):\n",
        "      if active.culture[l] == model.agents[i_nei[k]].culture[l]:\n",
        "        similarity += 1\n",
        "    lis_int_prob.append(similarity / FEATURES)\n",
        "\n",
        "  #in [0, 2, 3, 4, 5]\n",
        "\n",
        "\n",
        "  elif i % 10 == 0:\n",
        "    k = random.choice([0, 1, 3, 5, 7])\n",
        "    similarity = 0\n",
        "    for l in range(0, FEATURES):\n",
        "      if active.culture[l] == model.agents[i_nei[k]].culture[l]:\n",
        "        similarity += 1\n",
        "    lis_int_prob.append(similarity / FEATURES)\n",
        "\n",
        "  #in [0, 1, 3, 5, 7]\n",
        "\n",
        "\n",
        "  elif (i + 1) % 10 == 0:\n",
        "    k = random.choice([0, 1, 2, 4, 6])\n",
        "    similarity = 0\n",
        "    for l in range(0, FEATURES):\n",
        "      if active.culture[l] == model.agents[i_nei[k]].culture[l]:\n",
        "        similarity += 1\n",
        "    lis_int_prob.append(similarity / FEATURES)\n",
        "\n",
        "  #in [0, 1, 2, 4, 6]\n",
        "\n",
        "  else:\n",
        "    k = random.choice([0, 3, 5])\n",
        "    similarity = 0\n",
        "    for l in range(0, FEATURES):\n",
        "      if active.culture[l] == model.agents[i_nei[k]].culture[l]:\n",
        "        similarity += 1\n",
        "    lis_int_prob.append(similarity / FEATURES)"
      ]
    },
    {
      "cell_type": "code",
      "execution_count": null,
      "metadata": {
        "colab": {
          "base_uri": "https://localhost:8080/"
        },
        "id": "HNbVLnAICFaE",
        "outputId": "6f10f365-6885-411a-8ff7-2c136ef73ce8"
      },
      "outputs": [
        {
          "name": "stdout",
          "output_type": "stream",
          "text": [
            "[[0.  0.  0.  0.  1.  1.  1.  1.  0.  0. ]\n",
            " [0.  0.  1.  0.  1.  1.  1.  0.  0.  0. ]\n",
            " [1.  0.  0.  1.  1.  1.  1.  1.  1.  1. ]\n",
            " [1.  0.  1.  0.  0.  1.  1.  1.  1.  1. ]\n",
            " [0.  0.  1.  1.  1.  0.  1.  1.  1.  1. ]\n",
            " [1.  1.  1.  1.  1.  0.  1.  1.  1.  1. ]\n",
            " [1.  1.  1.  1.  1.  1.  1.  1.  1.  1. ]\n",
            " [1.  0.  1.  1.  0.  1.  1.  1.  1.  1. ]\n",
            " [0.  1.  1.  1.  0.  1.  1.  1.  1.  0. ]\n",
            " [0.2 0.2 0.  1.  1.  0.  0.  0.  0.  0. ]]\n"
          ]
        }
      ],
      "source": [
        "## 類似度のリストをマトリックスとして表示\n",
        "list_int_prob = np.array(lis_int_prob)\n",
        "list_int_prob = list_int_prob.reshape(10, 10)\n",
        "print(list_int_prob)"
      ]
    },
    {
      "cell_type": "code",
      "execution_count": null,
      "metadata": {
        "colab": {
          "base_uri": "https://localhost:8080/"
        },
        "id": "iJdTt3r91-Ip",
        "outputId": "585fc315-3944-4a6f-abf5-d20024552d9a"
      },
      "outputs": [
        {
          "name": "stdout",
          "output_type": "stream",
          "text": [
            "[[0.2 0.2 0.  1.  1.  0.  0.  0.  0.  0. ]\n",
            " [0.  1.  1.  1.  0.  1.  1.  1.  1.  0. ]\n",
            " [1.  0.  1.  1.  0.  1.  1.  1.  1.  1. ]\n",
            " [1.  1.  1.  1.  1.  1.  1.  1.  1.  1. ]\n",
            " [1.  1.  1.  1.  1.  0.  1.  1.  1.  1. ]\n",
            " [0.  0.  1.  1.  1.  0.  1.  1.  1.  1. ]\n",
            " [1.  0.  1.  0.  0.  1.  1.  1.  1.  1. ]\n",
            " [1.  0.  0.  1.  1.  1.  1.  1.  1.  1. ]\n",
            " [0.  0.  1.  0.  1.  1.  1.  0.  0.  0. ]\n",
            " [0.  0.  0.  0.  1.  1.  1.  1.  0.  0. ]]\n"
          ]
        }
      ],
      "source": [
        "## listを正しい順番に並べ替える\n",
        "l_i_t = np.array([list_int_prob[9]])\n",
        "\n",
        "for i in [8, 7, 6, 5, 4, 3, 2, 1, 0]:\n",
        "  l_i_t = np.insert(l_i_t,l_i_t.shape[0], np.array([list_int_prob[i]]), axis=0)\n",
        "\n",
        "print(l_i_t)"
      ]
    },
    {
      "cell_type": "code",
      "execution_count": null,
      "metadata": {
        "colab": {
          "background_save": true
        },
        "id": "-t-G4cii2BPN",
        "outputId": "30e7548e-d49e-42e2-d4d9-286b98f02d43"
      },
      "outputs": [
        {
          "data": {
            "image/png": "[encoded data removed]",
            "text/plain": [
              "<Figure size 640x480 with 2 Axes>"
            ]
          },
          "metadata": {},
          "output_type": "display_data"
        }
      ],
      "source": [
        "## 類似度の図示\n",
        "x = np.arange(0, 1, 0.1)\n",
        "y = np.arange(0, 1, 0.1)\n",
        "X,Y = np.meshgrid(x,y)\n",
        "Z = l_i_t\n",
        "\n",
        "\n",
        "aa = plt.pcolormesh(X,Y,Z,vmin=0,vmax=1)\n",
        "plt.colorbar(aa)\n",
        "plt.xlabel('X')\n",
        "plt.ylabel('Y')\n",
        "plt.show()"
      ]
    }
  ],
  "metadata": {
    "colab": {
      "provenance": [],
      "authorship_tag": "ABX9TyMapT6gCBxanmJuuwa7NYWs",
      "include_colab_link": true
    },
    "kernelspec": {
      "display_name": "Python 3",
      "name": "python3"
    },
    "language_info": {
      "name": "python"
    }
  },
  "nbformat": 4,
  "nbformat_minor": 0
}